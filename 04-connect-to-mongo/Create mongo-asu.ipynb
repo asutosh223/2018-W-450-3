{
 "cells": [
  {
   "cell_type": "code",
   "execution_count": 11,
   "metadata": {},
   "outputs": [],
   "source": [
    "from pymongo import MongoClient"
   ]
  },
  {
   "cell_type": "code",
   "execution_count": 12,
   "metadata": {},
   "outputs": [],
   "source": [
    "mongo_client = MongoClient('54.214.110.203', 27016)"
   ]
  },
  {
   "cell_type": "code",
   "execution_count": 13,
   "metadata": {},
   "outputs": [
    {
     "data": {
      "text/plain": [
       "['admin', 'config', 'local', 'test_database']"
      ]
     },
     "execution_count": 13,
     "metadata": {},
     "output_type": "execute_result"
    }
   ],
   "source": [
    "mongo_client.database_names()"
   ]
  },
  {
   "cell_type": "code",
   "execution_count": 4,
   "metadata": {},
   "outputs": [
    {
     "name": "stderr",
     "output_type": "stream",
     "text": [
      "/opt/conda/lib/python3.6/site-packages/ipykernel_launcher.py:1: DeprecationWarning: insert is deprecated. Use insert_one or insert_many instead.\n",
      "  \"\"\"Entry point for launching an IPython kernel.\n"
     ]
    },
    {
     "data": {
      "text/plain": [
       "ObjectId('5a7f5fb61b37110962da51a8')"
      ]
     },
     "execution_count": 4,
     "metadata": {},
     "output_type": "execute_result"
    }
   ],
   "source": [
    "mongo_client.test_database.test_collection.insert({'test' : 1})"
   ]
  },
  {
   "cell_type": "code",
   "execution_count": 5,
   "metadata": {},
   "outputs": [
    {
     "data": {
      "text/plain": [
       "['admin', 'config', 'local', 'test_database']"
      ]
     },
     "execution_count": 5,
     "metadata": {},
     "output_type": "execute_result"
    }
   ],
   "source": [
    "mongo_client.database_names()"
   ]
  },
  {
   "cell_type": "code",
   "execution_count": 14,
   "metadata": {},
   "outputs": [
    {
     "data": {
      "text/plain": [
       "['test_collection']"
      ]
     },
     "execution_count": 14,
     "metadata": {},
     "output_type": "execute_result"
    }
   ],
   "source": [
    "mongo_client.test_database.collection_names()"
   ]
  },
  {
   "cell_type": "code",
   "execution_count": 17,
   "metadata": {},
   "outputs": [
    {
     "data": {
      "text/plain": [
       "{'_id': ObjectId('5a8548ba18b160005479c5b9'),\n",
       " 'contributors': None,\n",
       " 'coordinates': None,\n",
       " 'created_at': 'Sun Mar 27 20:08:09 +0000 2016',\n",
       " 'entities': {'hashtags': [],\n",
       "  'symbols': [],\n",
       "  'urls': [],\n",
       "  'user_mentions': [{'id': 507026258,\n",
       "    'id_str': '507026258',\n",
       "    'indices': [3, 19],\n",
       "    'name': 'Mitchell Johnson',\n",
       "    'screen_name': 'MitchJohnson398'}]},\n",
       " 'favorite_count': 0,\n",
       " 'favorited': False,\n",
       " 'geo': None,\n",
       " 'id': 714182240662528001,\n",
       " 'id_str': '714182240662528001',\n",
       " 'in_reply_to_screen_name': None,\n",
       " 'in_reply_to_status_id': None,\n",
       " 'in_reply_to_status_id_str': None,\n",
       " 'in_reply_to_user_id': None,\n",
       " 'in_reply_to_user_id_str': None,\n",
       " 'is_quote_status': False,\n",
       " 'lang': 'en',\n",
       " 'place': None,\n",
       " 'retweet_count': 1575,\n",
       " 'retweeted': True,\n",
       " 'retweeted_status': {'contributors': None,\n",
       "  'coordinates': None,\n",
       "  'created_at': 'Sun Mar 27 17:51:30 +0000 2016',\n",
       "  'entities': {'hashtags': [], 'symbols': [], 'urls': [], 'user_mentions': []},\n",
       "  'favorite_count': 3283,\n",
       "  'favorited': False,\n",
       "  'geo': None,\n",
       "  'id': 714147848737001473,\n",
       "  'id_str': '714147848737001473',\n",
       "  'in_reply_to_screen_name': 'MitchJohnson398',\n",
       "  'in_reply_to_status_id': 713689253830533120,\n",
       "  'in_reply_to_status_id_str': '713689253830533120',\n",
       "  'in_reply_to_user_id': 507026258,\n",
       "  'in_reply_to_user_id_str': '507026258',\n",
       "  'is_quote_status': False,\n",
       "  'lang': 'en',\n",
       "  'place': None,\n",
       "  'retweet_count': 1575,\n",
       "  'retweeted': True,\n",
       "  'source': '<a href=\"http://twitter.com/download/iphone\" rel=\"nofollow\">Twitter for iPhone</a>',\n",
       "  'text': 'Well to be fair, he definitely stepped it up for this T 20 World Cup. Too good in the end 👍🏼',\n",
       "  'truncated': False,\n",
       "  'user': {'contributors_enabled': False,\n",
       "   'created_at': 'Tue Feb 28 07:21:44 +0000 2012',\n",
       "   'default_profile': False,\n",
       "   'default_profile_image': False,\n",
       "   'description': 'Nothing wrong with a debate 🤔Instagram: https://t.co/jobUpSTftv',\n",
       "   'entities': {'description': {'urls': [{'display_url': 'Instagram.com/mitchjohnson39…',\n",
       "       'expanded_url': 'http://Instagram.com/mitchjohnson398/',\n",
       "       'indices': [40, 63],\n",
       "       'url': 'https://t.co/jobUpSTftv'}]},\n",
       "    'url': {'urls': [{'display_url': 'fashionsportlifestyle.com',\n",
       "       'expanded_url': 'http://fashionsportlifestyle.com',\n",
       "       'indices': [0, 23],\n",
       "       'url': 'https://t.co/rq3o73aewN'}]}},\n",
       "   'favourites_count': 1808,\n",
       "   'follow_request_sent': False,\n",
       "   'followers_count': 738434,\n",
       "   'following': False,\n",
       "   'friends_count': 178,\n",
       "   'geo_enabled': False,\n",
       "   'has_extended_profile': False,\n",
       "   'id': 507026258,\n",
       "   'id_str': '507026258',\n",
       "   'is_translation_enabled': False,\n",
       "   'is_translator': False,\n",
       "   'lang': 'en',\n",
       "   'listed_count': 757,\n",
       "   'location': 'Perth, Australia ',\n",
       "   'name': 'Mitchell Johnson',\n",
       "   'notifications': False,\n",
       "   'profile_background_color': '000000',\n",
       "   'profile_background_image_url': 'http://abs.twimg.com/images/themes/theme1/bg.png',\n",
       "   'profile_background_image_url_https': 'https://abs.twimg.com/images/themes/theme1/bg.png',\n",
       "   'profile_background_tile': False,\n",
       "   'profile_banner_url': 'https://pbs.twimg.com/profile_banners/507026258/1493839003',\n",
       "   'profile_image_url': 'http://pbs.twimg.com/profile_images/859849212598603776/qlpYuJvz_normal.jpg',\n",
       "   'profile_image_url_https': 'https://pbs.twimg.com/profile_images/859849212598603776/qlpYuJvz_normal.jpg',\n",
       "   'profile_link_color': '4A913C',\n",
       "   'profile_sidebar_border_color': '000000',\n",
       "   'profile_sidebar_fill_color': '000000',\n",
       "   'profile_text_color': '000000',\n",
       "   'profile_use_background_image': False,\n",
       "   'protected': False,\n",
       "   'screen_name': 'MitchJohnson398',\n",
       "   'statuses_count': 2307,\n",
       "   'time_zone': None,\n",
       "   'translator_type': 'none',\n",
       "   'url': 'https://t.co/rq3o73aewN',\n",
       "   'utc_offset': None,\n",
       "   'verified': True}},\n",
       " 'source': '<a href=\"http://twitter.com\" rel=\"nofollow\">Twitter Web Client</a>',\n",
       " 'text': 'RT @MitchJohnson398: Well to be fair, he definitely stepped it up for this T 20 World Cup. Too good in the end 👍🏼',\n",
       " 'truncated': False,\n",
       " 'user': {'contributors_enabled': False,\n",
       "  'created_at': 'Thu May 06 06:55:15 +0000 2010',\n",
       "  'default_profile': True,\n",
       "  'default_profile_image': True,\n",
       "  'description': '',\n",
       "  'entities': {'description': {'urls': []}},\n",
       "  'favourites_count': 0,\n",
       "  'follow_request_sent': False,\n",
       "  'followers_count': 14,\n",
       "  'following': False,\n",
       "  'friends_count': 24,\n",
       "  'geo_enabled': False,\n",
       "  'has_extended_profile': False,\n",
       "  'id': 140722161,\n",
       "  'id_str': '140722161',\n",
       "  'is_translation_enabled': False,\n",
       "  'is_translator': False,\n",
       "  'lang': 'en',\n",
       "  'listed_count': 0,\n",
       "  'location': '',\n",
       "  'name': 'Asutosh Rath',\n",
       "  'notifications': False,\n",
       "  'profile_background_color': 'C0DEED',\n",
       "  'profile_background_image_url': 'http://abs.twimg.com/images/themes/theme1/bg.png',\n",
       "  'profile_background_image_url_https': 'https://abs.twimg.com/images/themes/theme1/bg.png',\n",
       "  'profile_background_tile': False,\n",
       "  'profile_image_url': 'http://abs.twimg.com/sticky/default_profile_images/default_profile_normal.png',\n",
       "  'profile_image_url_https': 'https://abs.twimg.com/sticky/default_profile_images/default_profile_normal.png',\n",
       "  'profile_link_color': '1DA1F2',\n",
       "  'profile_sidebar_border_color': 'C0DEED',\n",
       "  'profile_sidebar_fill_color': 'DDEEF6',\n",
       "  'profile_text_color': '333333',\n",
       "  'profile_use_background_image': True,\n",
       "  'protected': False,\n",
       "  'screen_name': 'asutosh223',\n",
       "  'statuses_count': 1,\n",
       "  'time_zone': None,\n",
       "  'translator_type': 'none',\n",
       "  'url': None,\n",
       "  'utc_offset': None,\n",
       "  'verified': False}}"
      ]
     },
     "execution_count": 17,
     "metadata": {},
     "output_type": "execute_result"
    }
   ],
   "source": [
    "mongo_client.test_database.test_collection.find_one()"
   ]
  },
  {
   "cell_type": "code",
   "execution_count": null,
   "metadata": {},
   "outputs": [],
   "source": []
  }
 ],
 "metadata": {
  "kernelspec": {
   "display_name": "Python 3",
   "language": "python",
   "name": "python3"
  },
  "language_info": {
   "codemirror_mode": {
    "name": "ipython",
    "version": 3
   },
   "file_extension": ".py",
   "mimetype": "text/x-python",
   "name": "python",
   "nbconvert_exporter": "python",
   "pygments_lexer": "ipython3",
   "version": "3.6.4"
  }
 },
 "nbformat": 4,
 "nbformat_minor": 2
}
