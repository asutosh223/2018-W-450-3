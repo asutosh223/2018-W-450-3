{
 "cells": [
  {
   "cell_type": "code",
   "execution_count": 1,
   "metadata": {},
   "outputs": [
    {
     "name": "stdout",
     "output_type": "stream",
     "text": [
      "Requirement already satisfied: pymongo in /opt/conda/lib/python3.6/site-packages\r\n"
     ]
    }
   ],
   "source": [
    "!pip install pymongo"
   ]
  },
  {
   "cell_type": "code",
   "execution_count": 2,
   "metadata": {},
   "outputs": [],
   "source": [
    "from pymongo import MongoClient"
   ]
  },
  {
   "cell_type": "code",
   "execution_count": 3,
   "metadata": {},
   "outputs": [],
   "source": [
    "import pymongo"
   ]
  },
  {
   "cell_type": "code",
   "execution_count": 4,
   "metadata": {},
   "outputs": [],
   "source": [
    "mongo_client = MongoClient('this-mongo.cc', 27016)\n",
    "database_reference = mongo_client.twitter\n",
    "collection_reference = database_reference.tweets"
   ]
  },
  {
   "cell_type": "code",
   "execution_count": 5,
   "metadata": {},
   "outputs": [
    {
     "data": {
      "text/plain": [
       "MongoClient(host=['this-mongo.cc:27016'], document_class=dict, tz_aware=False, connect=True)"
      ]
     },
     "execution_count": 5,
     "metadata": {},
     "output_type": "execute_result"
    }
   ],
   "source": [
    "mongo_client"
   ]
  },
  {
   "cell_type": "code",
   "execution_count": 6,
   "metadata": {},
   "outputs": [
    {
     "data": {
      "text/plain": [
       "['users', 'instructor_test_group', 'tweets']"
      ]
     },
     "execution_count": 6,
     "metadata": {},
     "output_type": "execute_result"
    }
   ],
   "source": [
    "database_reference.collection_names()"
   ]
  },
  {
   "cell_type": "code",
   "execution_count": 7,
   "metadata": {},
   "outputs": [],
   "source": [
    "test_users = database_reference.users"
   ]
  },
  {
   "cell_type": "code",
   "execution_count": 8,
   "metadata": {},
   "outputs": [],
   "source": [
    "test_group = database_reference.instructor_test_group "
   ]
  },
  {
   "cell_type": "code",
   "execution_count": 9,
   "metadata": {},
   "outputs": [
    {
     "data": {
      "text/plain": [
       "1159015"
      ]
     },
     "execution_count": 9,
     "metadata": {},
     "output_type": "execute_result"
    }
   ],
   "source": [
    "test_users.count()"
   ]
  },
  {
   "cell_type": "code",
   "execution_count": 10,
   "metadata": {},
   "outputs": [
    {
     "data": {
      "text/plain": [
       "20000"
      ]
     },
     "execution_count": 10,
     "metadata": {},
     "output_type": "execute_result"
    }
   ],
   "source": [
    "test_group.count()"
   ]
  },
  {
   "cell_type": "code",
   "execution_count": 11,
   "metadata": {},
   "outputs": [
    {
     "data": {
      "text/plain": [
       "Collection(Database(MongoClient(host=['this-mongo.cc:27016'], document_class=dict, tz_aware=False, connect=True), 'twitter'), 'tweets')"
      ]
     },
     "execution_count": 11,
     "metadata": {},
     "output_type": "execute_result"
    }
   ],
   "source": [
    "collection_reference"
   ]
  },
  {
   "cell_type": "code",
   "execution_count": 12,
   "metadata": {},
   "outputs": [
    {
     "data": {
      "text/plain": [
       "2157100"
      ]
     },
     "execution_count": 12,
     "metadata": {},
     "output_type": "execute_result"
    }
   ],
   "source": [
    "collection_reference.count()"
   ]
  },
  {
   "cell_type": "code",
   "execution_count": 13,
   "metadata": {},
   "outputs": [
    {
     "data": {
      "text/plain": [
       "456"
      ]
     },
     "execution_count": 13,
     "metadata": {},
     "output_type": "execute_result"
    }
   ],
   "source": [
    "import re\n",
    "rgx = re.compile('ucla')\n",
    "collection_reference.find({'text': rgx}).count()"
   ]
  },
  {
   "cell_type": "code",
   "execution_count": 14,
   "metadata": {},
   "outputs": [
    {
     "name": "stderr",
     "output_type": "stream",
     "text": [
      "/opt/conda/lib/python3.6/site-packages/ipykernel_launcher.py:1: DeprecationWarning: ensure_index is deprecated. Use create_index instead.\n",
      "  \"\"\"Entry point for launching an IPython kernel.\n"
     ]
    },
    {
     "data": {
      "text/plain": [
       "'_id_1'"
      ]
     },
     "execution_count": 14,
     "metadata": {},
     "output_type": "execute_result"
    }
   ],
   "source": [
    "collection_reference.ensure_index('_id')"
   ]
  },
  {
   "cell_type": "code",
   "execution_count": 15,
   "metadata": {},
   "outputs": [
    {
     "data": {
      "text/plain": [
       "{'_id': ObjectId('5a7b56a015ba4c000157fa22'),\n",
       " 'contributors': None,\n",
       " 'coordinates': None,\n",
       " 'created_at': 'Wed Feb 07 19:42:23 +0000 2018',\n",
       " 'display_text_range': [34, 140],\n",
       " 'entities': {'hashtags': [],\n",
       "  'symbols': [],\n",
       "  'urls': [{'display_url': 'twitter.com/i/web/status/9…',\n",
       "    'expanded_url': 'https://twitter.com/i/web/status/961324281714982913',\n",
       "    'indices': [117, 140],\n",
       "    'url': 'https://t.co/KB2565qSGk'}],\n",
       "  'user_mentions': [{'id': 1609009364,\n",
       "    'id_str': '1609009364',\n",
       "    'indices': [0, 13],\n",
       "    'name': 'LORENA FREIRE',\n",
       "    'screen_name': 'laLoreFreire'},\n",
       "   {'id': 933562627,\n",
       "    'id_str': '933562627',\n",
       "    'indices': [14, 23],\n",
       "    'name': 'Andres Aguilar C.S.E',\n",
       "    'screen_name': 'acsoul69'},\n",
       "   {'id': 15447575,\n",
       "    'id_str': '15447575',\n",
       "    'indices': [24, 33],\n",
       "    'name': 'Club Sport Emelec',\n",
       "    'screen_name': 'CSEmelec'}]},\n",
       " 'extended_tweet': {'display_text_range': [34, 188],\n",
       "  'entities': {'hashtags': [],\n",
       "   'symbols': [],\n",
       "   'urls': [],\n",
       "   'user_mentions': [{'id': 1609009364,\n",
       "     'id_str': '1609009364',\n",
       "     'indices': [0, 13],\n",
       "     'name': 'LORENA FREIRE',\n",
       "     'screen_name': 'laLoreFreire'},\n",
       "    {'id': 933562627,\n",
       "     'id_str': '933562627',\n",
       "     'indices': [14, 23],\n",
       "     'name': 'Andres Aguilar C.S.E',\n",
       "     'screen_name': 'acsoul69'},\n",
       "    {'id': 15447575,\n",
       "     'id_str': '15447575',\n",
       "     'indices': [24, 33],\n",
       "     'name': 'Club Sport Emelec',\n",
       "     'screen_name': 'CSEmelec'}]},\n",
       "  'full_text': '@laLoreFreire @acsoul69 @CSEmelec Cada individuo es libre de trabajar dónde se le da la gana, seguro la mayoría elegimos lo mejor para uno. Silva es lo que hizo, firmó por la mejor oferta.'},\n",
       " 'favorite_count': 0,\n",
       " 'favorited': False,\n",
       " 'filter_level': 'low',\n",
       " 'geo': None,\n",
       " 'id': 961324281714982913,\n",
       " 'id_str': '961324281714982913',\n",
       " 'in_reply_to_screen_name': 'laLoreFreire',\n",
       " 'in_reply_to_status_id': 961256914054246400,\n",
       " 'in_reply_to_status_id_str': '961256914054246400',\n",
       " 'in_reply_to_user_id': 1609009364,\n",
       " 'in_reply_to_user_id_str': '1609009364',\n",
       " 'is_quote_status': False,\n",
       " 'lang': 'es',\n",
       " 'place': {'attributes': {},\n",
       "  'bounding_box': {'coordinates': [[[-118.668404, 33.704538],\n",
       "     [-118.668404, 34.337041],\n",
       "     [-118.155409, 34.337041],\n",
       "     [-118.155409, 33.704538]]],\n",
       "   'type': 'Polygon'},\n",
       "  'country': 'United States',\n",
       "  'country_code': 'US',\n",
       "  'full_name': 'Los Angeles, CA',\n",
       "  'id': '3b77caf94bfc81fe',\n",
       "  'name': 'Los Angeles',\n",
       "  'place_type': 'city',\n",
       "  'url': 'https://api.twitter.com/1.1/geo/id/3b77caf94bfc81fe.json'},\n",
       " 'quote_count': 0,\n",
       " 'reply_count': 0,\n",
       " 'retweet_count': 0,\n",
       " 'retweeted': False,\n",
       " 'source': '<a href=\"http://twitter.com/download/android\" rel=\"nofollow\">Twitter for Android</a>',\n",
       " 'text': '@laLoreFreire @acsoul69 @CSEmelec Cada individuo es libre de trabajar dónde se le da la gana, seguro la mayoría ele… https://t.co/KB2565qSGk',\n",
       " 'timestamp_ms': '1518032543959',\n",
       " 'truncated': True,\n",
       " 'user': {'contributors_enabled': False,\n",
       "  'created_at': 'Wed Feb 05 18:37:32 +0000 2014',\n",
       "  'default_profile': True,\n",
       "  'default_profile_image': False,\n",
       "  'description': 'Operating Engineer for Kaiser Permanente  Hospital in Panorama City, California.',\n",
       "  'favourites_count': 376,\n",
       "  'follow_request_sent': None,\n",
       "  'followers_count': 49,\n",
       "  'following': None,\n",
       "  'friends_count': 165,\n",
       "  'geo_enabled': True,\n",
       "  'id': 2329197625,\n",
       "  'id_str': '2329197625',\n",
       "  'is_translator': False,\n",
       "  'lang': 'en',\n",
       "  'listed_count': 0,\n",
       "  'location': None,\n",
       "  'name': 'ciro martinez',\n",
       "  'notifications': None,\n",
       "  'profile_background_color': 'C0DEED',\n",
       "  'profile_background_image_url': 'http://abs.twimg.com/images/themes/theme1/bg.png',\n",
       "  'profile_background_image_url_https': 'https://abs.twimg.com/images/themes/theme1/bg.png',\n",
       "  'profile_background_tile': False,\n",
       "  'profile_image_url': 'http://pbs.twimg.com/profile_images/802767802746572800/_T3Dy9By_normal.jpg',\n",
       "  'profile_image_url_https': 'https://pbs.twimg.com/profile_images/802767802746572800/_T3Dy9By_normal.jpg',\n",
       "  'profile_link_color': '1DA1F2',\n",
       "  'profile_sidebar_border_color': 'C0DEED',\n",
       "  'profile_sidebar_fill_color': 'DDEEF6',\n",
       "  'profile_text_color': '333333',\n",
       "  'profile_use_background_image': True,\n",
       "  'protected': False,\n",
       "  'screen_name': 'CeCirmart19',\n",
       "  'statuses_count': 279,\n",
       "  'time_zone': None,\n",
       "  'translator_type': 'none',\n",
       "  'url': None,\n",
       "  'utc_offset': None,\n",
       "  'verified': False}}"
      ]
     },
     "execution_count": 15,
     "metadata": {},
     "output_type": "execute_result"
    }
   ],
   "source": [
    "cursor_sort = collection_reference.find().sort('_id', pymongo.ASCENDING).limit(1).skip(2000000)\n",
    "cursor_sort.next()"
   ]
  },
  {
   "cell_type": "code",
   "execution_count": 16,
   "metadata": {},
   "outputs": [
    {
     "data": {
      "text/plain": [
       "{'_id': ObjectId('5a5d3d4836dd5f00015f4d4a'),\n",
       " 'contributors': None,\n",
       " 'coordinates': None,\n",
       " 'created_at': 'Mon Jan 15 23:46:16 +0000 2018',\n",
       " 'entities': {'hashtags': [], 'symbols': [], 'urls': [], 'user_mentions': []},\n",
       " 'favorite_count': 0,\n",
       " 'favorited': False,\n",
       " 'filter_level': 'low',\n",
       " 'geo': None,\n",
       " 'id': 953050733116469248,\n",
       " 'id_str': '953050733116469248',\n",
       " 'in_reply_to_screen_name': None,\n",
       " 'in_reply_to_status_id': None,\n",
       " 'in_reply_to_status_id_str': None,\n",
       " 'in_reply_to_user_id': None,\n",
       " 'in_reply_to_user_id_str': None,\n",
       " 'is_quote_status': False,\n",
       " 'lang': 'en',\n",
       " 'place': {'attributes': {},\n",
       "  'bounding_box': {'coordinates': [[[-118.668404, 33.704538],\n",
       "     [-118.668404, 34.337041],\n",
       "     [-118.155409, 34.337041],\n",
       "     [-118.155409, 33.704538]]],\n",
       "   'type': 'Polygon'},\n",
       "  'country': 'United States',\n",
       "  'country_code': 'US',\n",
       "  'full_name': 'Los Angeles, CA',\n",
       "  'id': '3b77caf94bfc81fe',\n",
       "  'name': 'Los Angeles',\n",
       "  'place_type': 'city',\n",
       "  'url': 'https://api.twitter.com/1.1/geo/id/3b77caf94bfc81fe.json'},\n",
       " 'quote_count': 0,\n",
       " 'reply_count': 0,\n",
       " 'retweet_count': 0,\n",
       " 'retweeted': False,\n",
       " 'source': '<a href=\"http://twitter.com/download/iphone\" rel=\"nofollow\">Twitter for iPhone</a>',\n",
       " 'text': 'love',\n",
       " 'timestamp_ms': '1516059976258',\n",
       " 'truncated': False,\n",
       " 'user': {'contributors_enabled': False,\n",
       "  'created_at': 'Mon Jul 20 10:25:22 +0000 2009',\n",
       "  'default_profile': False,\n",
       "  'default_profile_image': False,\n",
       "  'description': '创造者 | Psych Klan Executive Producer',\n",
       "  'favourites_count': 5304,\n",
       "  'follow_request_sent': None,\n",
       "  'followers_count': 1169,\n",
       "  'following': None,\n",
       "  'friends_count': 544,\n",
       "  'geo_enabled': True,\n",
       "  'id': 58441210,\n",
       "  'id_str': '58441210',\n",
       "  'is_translator': False,\n",
       "  'lang': 'en',\n",
       "  'listed_count': 8,\n",
       "  'location': 'somewhere',\n",
       "  'name': 'xeno',\n",
       "  'notifications': None,\n",
       "  'profile_background_color': '131516',\n",
       "  'profile_background_image_url': 'http://pbs.twimg.com/profile_background_images/324166359/ws02.jpg.jpeg',\n",
       "  'profile_background_image_url_https': 'https://pbs.twimg.com/profile_background_images/324166359/ws02.jpg.jpeg',\n",
       "  'profile_background_tile': True,\n",
       "  'profile_banner_url': 'https://pbs.twimg.com/profile_banners/58441210/1510912803',\n",
       "  'profile_image_url': 'http://pbs.twimg.com/profile_images/951333360248356864/3BYz8xP6_normal.jpg',\n",
       "  'profile_image_url_https': 'https://pbs.twimg.com/profile_images/951333360248356864/3BYz8xP6_normal.jpg',\n",
       "  'profile_link_color': '1B95E0',\n",
       "  'profile_sidebar_border_color': 'FFFFFF',\n",
       "  'profile_sidebar_fill_color': '252429',\n",
       "  'profile_text_color': 'DE0303',\n",
       "  'profile_use_background_image': True,\n",
       "  'protected': False,\n",
       "  'screen_name': 'marzinkk',\n",
       "  'statuses_count': 31413,\n",
       "  'time_zone': 'Central Time (US & Canada)',\n",
       "  'translator_type': 'none',\n",
       "  'url': 'https://youtu.be/s4C4aIbKFT8',\n",
       "  'utc_offset': -21600,\n",
       "  'verified': False},\n",
       " 'user_processed': True}"
      ]
     },
     "execution_count": 16,
     "metadata": {},
     "output_type": "execute_result"
    }
   ],
   "source": [
    "collection_reference.find_one({'text': {'$in': ['love']}})"
   ]
  },
  {
   "cell_type": "code",
   "execution_count": 17,
   "metadata": {},
   "outputs": [
    {
     "ename": "StopIteration",
     "evalue": "",
     "output_type": "error",
     "traceback": [
      "\u001b[0;31m---------------------------------------------------------------------------\u001b[0m",
      "\u001b[0;31mStopIteration\u001b[0m                             Traceback (most recent call last)",
      "\u001b[0;32m<ipython-input-17-5b25cf976e09>\u001b[0m in \u001b[0;36m<module>\u001b[0;34m()\u001b[0m\n\u001b[1;32m      1\u001b[0m \u001b[0mcursor_null\u001b[0m\u001b[0;34m=\u001b[0m \u001b[0mcollection_reference\u001b[0m\u001b[0;34m.\u001b[0m\u001b[0mfind\u001b[0m\u001b[0;34m(\u001b[0m\u001b[0;34m{\u001b[0m\u001b[0;34m\"text\"\u001b[0m\u001b[0;34m:\u001b[0m \u001b[0;34m{\u001b[0m\u001b[0;34m\"$type\"\u001b[0m\u001b[0;34m:\u001b[0m \u001b[0;36m10\u001b[0m\u001b[0;34m}\u001b[0m\u001b[0;34m}\u001b[0m\u001b[0;34m)\u001b[0m\u001b[0;34m\u001b[0m\u001b[0m\n\u001b[0;32m----> 2\u001b[0;31m \u001b[0mcursor_null\u001b[0m\u001b[0;34m.\u001b[0m\u001b[0mnext\u001b[0m\u001b[0;34m(\u001b[0m\u001b[0;34m)\u001b[0m\u001b[0;34m\u001b[0m\u001b[0m\n\u001b[0m",
      "\u001b[0;32m/opt/conda/lib/python3.6/site-packages/pymongo/cursor.py\u001b[0m in \u001b[0;36mnext\u001b[0;34m(self)\u001b[0m\n\u001b[1;32m   1182\u001b[0m                 \u001b[0;32mreturn\u001b[0m \u001b[0mself\u001b[0m\u001b[0;34m.\u001b[0m\u001b[0m__data\u001b[0m\u001b[0;34m.\u001b[0m\u001b[0mpopleft\u001b[0m\u001b[0;34m(\u001b[0m\u001b[0;34m)\u001b[0m\u001b[0;34m\u001b[0m\u001b[0m\n\u001b[1;32m   1183\u001b[0m         \u001b[0;32melse\u001b[0m\u001b[0;34m:\u001b[0m\u001b[0;34m\u001b[0m\u001b[0m\n\u001b[0;32m-> 1184\u001b[0;31m             \u001b[0;32mraise\u001b[0m \u001b[0mStopIteration\u001b[0m\u001b[0;34m\u001b[0m\u001b[0m\n\u001b[0m\u001b[1;32m   1185\u001b[0m \u001b[0;34m\u001b[0m\u001b[0m\n\u001b[1;32m   1186\u001b[0m     \u001b[0m__next__\u001b[0m \u001b[0;34m=\u001b[0m \u001b[0mnext\u001b[0m\u001b[0;34m\u001b[0m\u001b[0m\n",
      "\u001b[0;31mStopIteration\u001b[0m: "
     ]
    }
   ],
   "source": [
    "cursor_null= collection_reference.find({\"text\": {\"$type\": 10}})\n",
    "cursor_null.next()"
   ]
  },
  {
   "cell_type": "code",
   "execution_count": null,
   "metadata": {},
   "outputs": [],
   "source": [
    "cursor = collection_reference.find({'_id': ObjectId('5a4d56d9bfe2f9001587a131')})"
   ]
  },
  {
   "cell_type": "code",
   "execution_count": null,
   "metadata": {},
   "outputs": [],
   "source": [
    "for tweet in cursor:\n",
    "    print (tweet)\n",
    "    cursor.next()\n",
    "    "
   ]
  },
  {
   "cell_type": "code",
   "execution_count": null,
   "metadata": {},
   "outputs": [],
   "source": [
    "cursor.next()"
   ]
  },
  {
   "cell_type": "code",
   "execution_count": null,
   "metadata": {},
   "outputs": [],
   "source": [
    "next(cursor)"
   ]
  },
  {
   "cell_type": "code",
   "execution_count": null,
   "metadata": {},
   "outputs": [],
   "source": [
    "next(cursor)['text']"
   ]
  },
  {
   "cell_type": "code",
   "execution_count": null,
   "metadata": {},
   "outputs": [],
   "source": [
    "type(next(cursor))"
   ]
  },
  {
   "cell_type": "code",
   "execution_count": null,
   "metadata": {},
   "outputs": [],
   "source": [
    "next(cursor)['text']"
   ]
  },
  {
   "cell_type": "code",
   "execution_count": 11,
   "metadata": {},
   "outputs": [
    {
     "data": {
      "text/plain": [
       "pymongo.collection.Collection"
      ]
     },
     "execution_count": 11,
     "metadata": {},
     "output_type": "execute_result"
    }
   ],
   "source": [
    "type(collection_reference)"
   ]
  },
  {
   "cell_type": "code",
   "execution_count": 20,
   "metadata": {},
   "outputs": [],
   "source": [
    "import pprint"
   ]
  },
  {
   "cell_type": "code",
   "execution_count": 33,
   "metadata": {},
   "outputs": [
    {
     "data": {
      "text/plain": [
       "1"
      ]
     },
     "execution_count": 33,
     "metadata": {},
     "output_type": "execute_result"
    }
   ],
   "source": [
    "collection_reference.find({ 'text': 'Always! 😘 #relationships #love #lifeincolor #quirky @ Koreatown, Los Angeles https://t.co/gyIjqCRsOT'}).count()"
   ]
  },
  {
   "cell_type": "code",
   "execution_count": 26,
   "metadata": {},
   "outputs": [],
   "source": [
    "datePipe = {\"$dateFromString\" : { \"dateString\" : \"$created_at\"}}\n",
    "projectPipe = {\"year\" : {\"$year\": {\"date\" : datePipe}},\n",
    "                       \"month\" : {\"$month\": {\"date\" : datePipe}},\n",
    "                       \"day\" : {\"$dayOfMonth\": {\"date\" : datePipe}},\n",
    "                       \"_id\" : 0}\n",
    "groupPipe = {\"_id\" : {\n",
    "                        \"year\" : \"$year\",\n",
    "                        \"month\" : \"$month\", \n",
    "                        \"day\" : \"$day\"},\n",
    "             \"tweets\" : { \n",
    "                         \"$sum\" : 1 }\n",
    "            }\n",
    "dailyTweetsPipe = [\n",
    "        {\"$project\" : projectPipe},\n",
    "        {\"$group\" : groupPipe}\n",
    "] "
   ]
  },
  {
   "cell_type": "code",
   "execution_count": 27,
   "metadata": {},
   "outputs": [],
   "source": [
    "data_day = list(collection_reference.aggregate(dailyTweetsPipe))"
   ]
  },
  {
   "cell_type": "code",
   "execution_count": 28,
   "metadata": {},
   "outputs": [
    {
     "data": {
      "text/plain": [
       "[{'_id': {'day': 8, 'month': 2, 'year': 2018}, 'tweets': 54619},\n",
       " {'_id': {'day': 7, 'month': 2, 'year': 2018}, 'tweets': 52409},\n",
       " {'_id': {'day': 3, 'month': 2, 'year': 2018}, 'tweets': 49966},\n",
       " {'_id': {'day': 1, 'month': 2, 'year': 2018}, 'tweets': 52571},\n",
       " {'_id': {'day': 31, 'month': 1, 'year': 2018}, 'tweets': 57180},\n",
       " {'_id': {'day': 29, 'month': 1, 'year': 2018}, 'tweets': 54141},\n",
       " {'_id': {'day': 5, 'month': 2, 'year': 2018}, 'tweets': 62981},\n",
       " {'_id': {'day': 28, 'month': 1, 'year': 2018}, 'tweets': 46801},\n",
       " {'_id': {'day': 27, 'month': 1, 'year': 2018}, 'tweets': 46334},\n",
       " {'_id': {'day': 6, 'month': 2, 'year': 2018}, 'tweets': 50339},\n",
       " {'_id': {'day': 24, 'month': 1, 'year': 2018}, 'tweets': 51789},\n",
       " {'_id': {'day': 11, 'month': 1, 'year': 2018}, 'tweets': 50082},\n",
       " {'_id': {'day': 5, 'month': 1, 'year': 2018}, 'tweets': 71745},\n",
       " {'_id': {'day': 9, 'month': 1, 'year': 2018}, 'tweets': 99654},\n",
       " {'_id': {'day': 4, 'month': 1, 'year': 2018}, 'tweets': 13583},\n",
       " {'_id': {'day': 7, 'month': 1, 'year': 2018}, 'tweets': 102854},\n",
       " {'_id': {'day': 30, 'month': 1, 'year': 2018}, 'tweets': 52556},\n",
       " {'_id': {'day': 6, 'month': 1, 'year': 2018}, 'tweets': 104486},\n",
       " {'_id': {'day': 17, 'month': 1, 'year': 2018}, 'tweets': 50677},\n",
       " {'_id': {'day': 26, 'month': 1, 'year': 2018}, 'tweets': 51595},\n",
       " {'_id': {'day': 10, 'month': 1, 'year': 2018}, 'tweets': 49456},\n",
       " {'_id': {'day': 2, 'month': 2, 'year': 2018}, 'tweets': 51156},\n",
       " {'_id': {'day': 25, 'month': 1, 'year': 2018}, 'tweets': 51621},\n",
       " {'_id': {'day': 3, 'month': 1, 'year': 2018}, 'tweets': 1752},\n",
       " {'_id': {'day': 4, 'month': 2, 'year': 2018}, 'tweets': 52438},\n",
       " {'_id': {'day': 19, 'month': 1, 'year': 2018}, 'tweets': 52874},\n",
       " {'_id': {'day': 21, 'month': 1, 'year': 2018}, 'tweets': 52657},\n",
       " {'_id': {'day': None, 'month': None, 'year': None}, 'tweets': 8},\n",
       " {'_id': {'day': 8, 'month': 1, 'year': 2018}, 'tweets': 114761},\n",
       " {'_id': {'day': 12, 'month': 1, 'year': 2018}, 'tweets': 54666},\n",
       " {'_id': {'day': 13, 'month': 1, 'year': 2018}, 'tweets': 50041},\n",
       " {'_id': {'day': 9, 'month': 2, 'year': 2018}, 'tweets': 51691},\n",
       " {'_id': {'day': 14, 'month': 1, 'year': 2018}, 'tweets': 50275},\n",
       " {'_id': {'day': 10, 'month': 2, 'year': 2018}, 'tweets': 7918},\n",
       " {'_id': {'day': 15, 'month': 1, 'year': 2018}, 'tweets': 52087},\n",
       " {'_id': {'day': 16, 'month': 1, 'year': 2018}, 'tweets': 50201},\n",
       " {'_id': {'day': 18, 'month': 1, 'year': 2018}, 'tweets': 50419},\n",
       " {'_id': {'day': 20, 'month': 1, 'year': 2018}, 'tweets': 53429},\n",
       " {'_id': {'day': 22, 'month': 1, 'year': 2018}, 'tweets': 51010},\n",
       " {'_id': {'day': 23, 'month': 1, 'year': 2018}, 'tweets': 51769}]"
      ]
     },
     "execution_count": 28,
     "metadata": {},
     "output_type": "execute_result"
    }
   ],
   "source": [
    "data_day"
   ]
  },
  {
   "cell_type": "code",
   "execution_count": 30,
   "metadata": {},
   "outputs": [],
   "source": [
    "from bson.objectid import ObjectId"
   ]
  },
  {
   "cell_type": "code",
   "execution_count": 35,
   "metadata": {},
   "outputs": [],
   "source": [
    "def get(collection_reference_id):\n",
    "    # Convert from string to ObjectId:\n",
    "    document = collection_reference.find_one({'_id': ObjectId(collection_reference_id)})"
   ]
  },
  {
   "cell_type": "code",
   "execution_count": null,
   "metadata": {},
   "outputs": [],
   "source": []
  }
 ],
 "metadata": {
  "kernelspec": {
   "display_name": "Python 3",
   "language": "python",
   "name": "python3"
  },
  "language_info": {
   "codemirror_mode": {
    "name": "ipython",
    "version": 3
   },
   "file_extension": ".py",
   "mimetype": "text/x-python",
   "name": "python",
   "nbconvert_exporter": "python",
   "pygments_lexer": "ipython3",
   "version": "3.6.4"
  }
 },
 "nbformat": 4,
 "nbformat_minor": 2
}
